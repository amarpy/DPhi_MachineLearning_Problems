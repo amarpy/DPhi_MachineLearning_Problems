{
 "metadata": {
  "language_info": {
   "codemirror_mode": {
    "name": "ipython",
    "version": 3
   },
   "file_extension": ".py",
   "mimetype": "text/x-python",
   "name": "python",
   "nbconvert_exporter": "python",
   "pygments_lexer": "ipython3",
   "version": "3.8.6-final"
  },
  "orig_nbformat": 2,
  "kernelspec": {
   "name": "python3",
   "display_name": "Python 3",
   "language": "python"
  }
 },
 "nbformat": 4,
 "nbformat_minor": 2,
 "cells": [
  {
   "cell_type": "code",
   "execution_count": 85,
   "metadata": {},
   "outputs": [],
   "source": [
    "import pandas as pd\n",
    "import numpy as np\n",
    "import seaborn as sns\n",
    "import matplotlib.pyplot as plt\n",
    "\n",
    "from sklearn.preprocessing import LabelEncoder\n",
    "from sklearn.tree import DecisionTreeClassifier\n",
    "from sklearn.model_selection import train_test_split\n",
    "from sklearn.model_selection import cross_validate\n",
    "from sklearn.metrics import classification_report, confusion_matrix\n",
    "%matplotlib inline"
   ]
  },
  {
   "cell_type": "code",
   "execution_count": 68,
   "metadata": {},
   "outputs": [],
   "source": [
    "pharma_data = pd.read_csv('https://raw.githubusercontent.com/dphi-official/Datasets/master/pharma_data/Training_set_begs.csv')"
   ]
  },
  {
   "cell_type": "code",
   "execution_count": 69,
   "metadata": {},
   "outputs": [
    {
     "output_type": "execute_result",
     "data": {
      "text/plain": [
       "(23097, 18)"
      ]
     },
     "metadata": {},
     "execution_count": 69
    }
   ],
   "source": [
    "pharma_data.shape"
   ]
  },
  {
   "cell_type": "code",
   "execution_count": 70,
   "metadata": {},
   "outputs": [
    {
     "output_type": "execute_result",
     "data": {
      "text/plain": [
       "   ID_Patient_Care_Situation  Diagnosed_Condition  Patient_ID  \\\n",
       "0                      22374                    8        3333   \n",
       "1                      18164                    5        5740   \n",
       "2                       6283                   23       10446   \n",
       "3                       5339                   51       12011   \n",
       "4                      33012                    0       12513   \n",
       "\n",
       "  Treated_with_drugs  Patient_Age  Patient_Body_Mass_Index Patient_Smoker  \\\n",
       "0                DX6           56                18.479385            YES   \n",
       "1               DX2            36                22.945566            YES   \n",
       "2                DX6           48                27.510027            YES   \n",
       "3               DX1             5                19.130976             NO   \n",
       "4                NaN          128                 1.348400     Cannot say   \n",
       "\n",
       "  Patient_Rural_Urban Patient_mental_condition    A    B    C    D    E    F  \\\n",
       "0               URBAN                   Stable  1.0  0.0  0.0  0.0  1.0  0.0   \n",
       "1               RURAL                   Stable  1.0  0.0  0.0  0.0  0.0  0.0   \n",
       "2               RURAL                   Stable  1.0  0.0  0.0  0.0  0.0  0.0   \n",
       "3               URBAN                   Stable  1.0  0.0  0.0  0.0  0.0  0.0   \n",
       "4               RURAL                   Stable  0.0  0.0  0.0  0.0  0.0  0.0   \n",
       "\n",
       "     Z  Number_of_prev_cond  Survived_1_year  \n",
       "0  0.0                  2.0                0  \n",
       "1  0.0                  1.0                1  \n",
       "2  0.0                  1.0                0  \n",
       "3  0.0                  1.0                1  \n",
       "4  1.0                  1.0                1  "
      ],
      "text/html": "<div>\n<style scoped>\n    .dataframe tbody tr th:only-of-type {\n        vertical-align: middle;\n    }\n\n    .dataframe tbody tr th {\n        vertical-align: top;\n    }\n\n    .dataframe thead th {\n        text-align: right;\n    }\n</style>\n<table border=\"1\" class=\"dataframe\">\n  <thead>\n    <tr style=\"text-align: right;\">\n      <th></th>\n      <th>ID_Patient_Care_Situation</th>\n      <th>Diagnosed_Condition</th>\n      <th>Patient_ID</th>\n      <th>Treated_with_drugs</th>\n      <th>Patient_Age</th>\n      <th>Patient_Body_Mass_Index</th>\n      <th>Patient_Smoker</th>\n      <th>Patient_Rural_Urban</th>\n      <th>Patient_mental_condition</th>\n      <th>A</th>\n      <th>B</th>\n      <th>C</th>\n      <th>D</th>\n      <th>E</th>\n      <th>F</th>\n      <th>Z</th>\n      <th>Number_of_prev_cond</th>\n      <th>Survived_1_year</th>\n    </tr>\n  </thead>\n  <tbody>\n    <tr>\n      <th>0</th>\n      <td>22374</td>\n      <td>8</td>\n      <td>3333</td>\n      <td>DX6</td>\n      <td>56</td>\n      <td>18.479385</td>\n      <td>YES</td>\n      <td>URBAN</td>\n      <td>Stable</td>\n      <td>1.0</td>\n      <td>0.0</td>\n      <td>0.0</td>\n      <td>0.0</td>\n      <td>1.0</td>\n      <td>0.0</td>\n      <td>0.0</td>\n      <td>2.0</td>\n      <td>0</td>\n    </tr>\n    <tr>\n      <th>1</th>\n      <td>18164</td>\n      <td>5</td>\n      <td>5740</td>\n      <td>DX2</td>\n      <td>36</td>\n      <td>22.945566</td>\n      <td>YES</td>\n      <td>RURAL</td>\n      <td>Stable</td>\n      <td>1.0</td>\n      <td>0.0</td>\n      <td>0.0</td>\n      <td>0.0</td>\n      <td>0.0</td>\n      <td>0.0</td>\n      <td>0.0</td>\n      <td>1.0</td>\n      <td>1</td>\n    </tr>\n    <tr>\n      <th>2</th>\n      <td>6283</td>\n      <td>23</td>\n      <td>10446</td>\n      <td>DX6</td>\n      <td>48</td>\n      <td>27.510027</td>\n      <td>YES</td>\n      <td>RURAL</td>\n      <td>Stable</td>\n      <td>1.0</td>\n      <td>0.0</td>\n      <td>0.0</td>\n      <td>0.0</td>\n      <td>0.0</td>\n      <td>0.0</td>\n      <td>0.0</td>\n      <td>1.0</td>\n      <td>0</td>\n    </tr>\n    <tr>\n      <th>3</th>\n      <td>5339</td>\n      <td>51</td>\n      <td>12011</td>\n      <td>DX1</td>\n      <td>5</td>\n      <td>19.130976</td>\n      <td>NO</td>\n      <td>URBAN</td>\n      <td>Stable</td>\n      <td>1.0</td>\n      <td>0.0</td>\n      <td>0.0</td>\n      <td>0.0</td>\n      <td>0.0</td>\n      <td>0.0</td>\n      <td>0.0</td>\n      <td>1.0</td>\n      <td>1</td>\n    </tr>\n    <tr>\n      <th>4</th>\n      <td>33012</td>\n      <td>0</td>\n      <td>12513</td>\n      <td>NaN</td>\n      <td>128</td>\n      <td>1.348400</td>\n      <td>Cannot say</td>\n      <td>RURAL</td>\n      <td>Stable</td>\n      <td>0.0</td>\n      <td>0.0</td>\n      <td>0.0</td>\n      <td>0.0</td>\n      <td>0.0</td>\n      <td>0.0</td>\n      <td>1.0</td>\n      <td>1.0</td>\n      <td>1</td>\n    </tr>\n  </tbody>\n</table>\n</div>"
     },
     "metadata": {},
     "execution_count": 70
    }
   ],
   "source": [
    "pharma_data.head()"
   ]
  },
  {
   "cell_type": "code",
   "execution_count": 71,
   "metadata": {},
   "outputs": [
    {
     "output_type": "stream",
     "name": "stdout",
     "text": [
      "<class 'pandas.core.frame.DataFrame'>\nRangeIndex: 23097 entries, 0 to 23096\nData columns (total 18 columns):\n #   Column                     Non-Null Count  Dtype  \n---  ------                     --------------  -----  \n 0   ID_Patient_Care_Situation  23097 non-null  int64  \n 1   Diagnosed_Condition        23097 non-null  int64  \n 2   Patient_ID                 23097 non-null  int64  \n 3   Treated_with_drugs         23084 non-null  object \n 4   Patient_Age                23097 non-null  int64  \n 5   Patient_Body_Mass_Index    23097 non-null  float64\n 6   Patient_Smoker             23097 non-null  object \n 7   Patient_Rural_Urban        23097 non-null  object \n 8   Patient_mental_condition   23097 non-null  object \n 9   A                          21862 non-null  float64\n 10  B                          21862 non-null  float64\n 11  C                          21862 non-null  float64\n 12  D                          21862 non-null  float64\n 13  E                          21862 non-null  float64\n 14  F                          21862 non-null  float64\n 15  Z                          21862 non-null  float64\n 16  Number_of_prev_cond        21862 non-null  float64\n 17  Survived_1_year            23097 non-null  int64  \ndtypes: float64(9), int64(5), object(4)\nmemory usage: 3.2+ MB\n"
     ]
    }
   ],
   "source": [
    "pharma_data.info()"
   ]
  },
  {
   "cell_type": "code",
   "execution_count": 72,
   "metadata": {},
   "outputs": [
    {
     "output_type": "execute_result",
     "data": {
      "text/plain": [
       "                           count unique     top   freq         mean  \\\n",
       "ID_Patient_Care_Situation  23097    NaN     NaN    NaN      16545.7   \n",
       "Diagnosed_Condition        23097    NaN     NaN    NaN      26.4131   \n",
       "Patient_ID                 23097    NaN     NaN    NaN      6261.28   \n",
       "Treated_with_drugs         23084     32     DX6   8606          NaN   \n",
       "Patient_Age                23097    NaN     NaN    NaN      33.2098   \n",
       "Patient_Body_Mass_Index    23097    NaN     NaN    NaN      23.4548   \n",
       "Patient_Smoker             23097      3      NO  13246          NaN   \n",
       "Patient_Rural_Urban        23097      2   RURAL  16134          NaN   \n",
       "Patient_mental_condition   23097      1  Stable  23097          NaN   \n",
       "A                          21862    NaN     NaN    NaN     0.897905   \n",
       "B                          21862    NaN     NaN    NaN     0.136355   \n",
       "C                          21862    NaN     NaN    NaN      0.18507   \n",
       "D                          21862    NaN     NaN    NaN    0.0836154   \n",
       "E                          21862    NaN     NaN    NaN     0.393239   \n",
       "F                          21862    NaN     NaN    NaN    0.0537005   \n",
       "Z                          21862    NaN     NaN    NaN  0.000594639   \n",
       "Number_of_prev_cond        21862    NaN     NaN    NaN      1.75048   \n",
       "Survived_1_year            23097    NaN     NaN    NaN     0.632247   \n",
       "\n",
       "                                 std     min      25%      50%      75%  \\\n",
       "ID_Patient_Care_Situation    9532.26       2     8280    16597    24825   \n",
       "Diagnosed_Condition          15.0309       0       13       26       39   \n",
       "Patient_ID                   3595.99       1     3181     6242     9363   \n",
       "Treated_with_drugs               NaN     NaN      NaN      NaN      NaN   \n",
       "Patient_Age                  19.5499       0       16       33       50   \n",
       "Patient_Body_Mass_Index      3.80766  1.0893  20.2055  23.3862  26.7882   \n",
       "Patient_Smoker                   NaN     NaN      NaN      NaN      NaN   \n",
       "Patient_Rural_Urban              NaN     NaN      NaN      NaN      NaN   \n",
       "Patient_mental_condition         NaN     NaN      NaN      NaN      NaN   \n",
       "A                            0.30278       0        1        1        1   \n",
       "B                           0.343173       0        0        0        0   \n",
       "C                           0.388363       0        0        0        0   \n",
       "D                           0.276817       0        0        0        0   \n",
       "E                            0.48848       0        0        0        1   \n",
       "F                           0.225431       0        0        0        0   \n",
       "Z                          0.0243785       0        0        0        0   \n",
       "Number_of_prev_cond         0.770311       1        1        2        2   \n",
       "Survived_1_year             0.482204       0        0        1        1   \n",
       "\n",
       "                               max  \n",
       "ID_Patient_Care_Situation    33014  \n",
       "Diagnosed_Condition             52  \n",
       "Patient_ID                   12515  \n",
       "Treated_with_drugs             NaN  \n",
       "Patient_Age                    149  \n",
       "Patient_Body_Mass_Index    29.9996  \n",
       "Patient_Smoker                 NaN  \n",
       "Patient_Rural_Urban            NaN  \n",
       "Patient_mental_condition       NaN  \n",
       "A                                1  \n",
       "B                                1  \n",
       "C                                1  \n",
       "D                                1  \n",
       "E                                1  \n",
       "F                                1  \n",
       "Z                                1  \n",
       "Number_of_prev_cond              5  \n",
       "Survived_1_year                  1  "
      ],
      "text/html": "<div>\n<style scoped>\n    .dataframe tbody tr th:only-of-type {\n        vertical-align: middle;\n    }\n\n    .dataframe tbody tr th {\n        vertical-align: top;\n    }\n\n    .dataframe thead th {\n        text-align: right;\n    }\n</style>\n<table border=\"1\" class=\"dataframe\">\n  <thead>\n    <tr style=\"text-align: right;\">\n      <th></th>\n      <th>count</th>\n      <th>unique</th>\n      <th>top</th>\n      <th>freq</th>\n      <th>mean</th>\n      <th>std</th>\n      <th>min</th>\n      <th>25%</th>\n      <th>50%</th>\n      <th>75%</th>\n      <th>max</th>\n    </tr>\n  </thead>\n  <tbody>\n    <tr>\n      <th>ID_Patient_Care_Situation</th>\n      <td>23097</td>\n      <td>NaN</td>\n      <td>NaN</td>\n      <td>NaN</td>\n      <td>16545.7</td>\n      <td>9532.26</td>\n      <td>2</td>\n      <td>8280</td>\n      <td>16597</td>\n      <td>24825</td>\n      <td>33014</td>\n    </tr>\n    <tr>\n      <th>Diagnosed_Condition</th>\n      <td>23097</td>\n      <td>NaN</td>\n      <td>NaN</td>\n      <td>NaN</td>\n      <td>26.4131</td>\n      <td>15.0309</td>\n      <td>0</td>\n      <td>13</td>\n      <td>26</td>\n      <td>39</td>\n      <td>52</td>\n    </tr>\n    <tr>\n      <th>Patient_ID</th>\n      <td>23097</td>\n      <td>NaN</td>\n      <td>NaN</td>\n      <td>NaN</td>\n      <td>6261.28</td>\n      <td>3595.99</td>\n      <td>1</td>\n      <td>3181</td>\n      <td>6242</td>\n      <td>9363</td>\n      <td>12515</td>\n    </tr>\n    <tr>\n      <th>Treated_with_drugs</th>\n      <td>23084</td>\n      <td>32</td>\n      <td>DX6</td>\n      <td>8606</td>\n      <td>NaN</td>\n      <td>NaN</td>\n      <td>NaN</td>\n      <td>NaN</td>\n      <td>NaN</td>\n      <td>NaN</td>\n      <td>NaN</td>\n    </tr>\n    <tr>\n      <th>Patient_Age</th>\n      <td>23097</td>\n      <td>NaN</td>\n      <td>NaN</td>\n      <td>NaN</td>\n      <td>33.2098</td>\n      <td>19.5499</td>\n      <td>0</td>\n      <td>16</td>\n      <td>33</td>\n      <td>50</td>\n      <td>149</td>\n    </tr>\n    <tr>\n      <th>Patient_Body_Mass_Index</th>\n      <td>23097</td>\n      <td>NaN</td>\n      <td>NaN</td>\n      <td>NaN</td>\n      <td>23.4548</td>\n      <td>3.80766</td>\n      <td>1.0893</td>\n      <td>20.2055</td>\n      <td>23.3862</td>\n      <td>26.7882</td>\n      <td>29.9996</td>\n    </tr>\n    <tr>\n      <th>Patient_Smoker</th>\n      <td>23097</td>\n      <td>3</td>\n      <td>NO</td>\n      <td>13246</td>\n      <td>NaN</td>\n      <td>NaN</td>\n      <td>NaN</td>\n      <td>NaN</td>\n      <td>NaN</td>\n      <td>NaN</td>\n      <td>NaN</td>\n    </tr>\n    <tr>\n      <th>Patient_Rural_Urban</th>\n      <td>23097</td>\n      <td>2</td>\n      <td>RURAL</td>\n      <td>16134</td>\n      <td>NaN</td>\n      <td>NaN</td>\n      <td>NaN</td>\n      <td>NaN</td>\n      <td>NaN</td>\n      <td>NaN</td>\n      <td>NaN</td>\n    </tr>\n    <tr>\n      <th>Patient_mental_condition</th>\n      <td>23097</td>\n      <td>1</td>\n      <td>Stable</td>\n      <td>23097</td>\n      <td>NaN</td>\n      <td>NaN</td>\n      <td>NaN</td>\n      <td>NaN</td>\n      <td>NaN</td>\n      <td>NaN</td>\n      <td>NaN</td>\n    </tr>\n    <tr>\n      <th>A</th>\n      <td>21862</td>\n      <td>NaN</td>\n      <td>NaN</td>\n      <td>NaN</td>\n      <td>0.897905</td>\n      <td>0.30278</td>\n      <td>0</td>\n      <td>1</td>\n      <td>1</td>\n      <td>1</td>\n      <td>1</td>\n    </tr>\n    <tr>\n      <th>B</th>\n      <td>21862</td>\n      <td>NaN</td>\n      <td>NaN</td>\n      <td>NaN</td>\n      <td>0.136355</td>\n      <td>0.343173</td>\n      <td>0</td>\n      <td>0</td>\n      <td>0</td>\n      <td>0</td>\n      <td>1</td>\n    </tr>\n    <tr>\n      <th>C</th>\n      <td>21862</td>\n      <td>NaN</td>\n      <td>NaN</td>\n      <td>NaN</td>\n      <td>0.18507</td>\n      <td>0.388363</td>\n      <td>0</td>\n      <td>0</td>\n      <td>0</td>\n      <td>0</td>\n      <td>1</td>\n    </tr>\n    <tr>\n      <th>D</th>\n      <td>21862</td>\n      <td>NaN</td>\n      <td>NaN</td>\n      <td>NaN</td>\n      <td>0.0836154</td>\n      <td>0.276817</td>\n      <td>0</td>\n      <td>0</td>\n      <td>0</td>\n      <td>0</td>\n      <td>1</td>\n    </tr>\n    <tr>\n      <th>E</th>\n      <td>21862</td>\n      <td>NaN</td>\n      <td>NaN</td>\n      <td>NaN</td>\n      <td>0.393239</td>\n      <td>0.48848</td>\n      <td>0</td>\n      <td>0</td>\n      <td>0</td>\n      <td>1</td>\n      <td>1</td>\n    </tr>\n    <tr>\n      <th>F</th>\n      <td>21862</td>\n      <td>NaN</td>\n      <td>NaN</td>\n      <td>NaN</td>\n      <td>0.0537005</td>\n      <td>0.225431</td>\n      <td>0</td>\n      <td>0</td>\n      <td>0</td>\n      <td>0</td>\n      <td>1</td>\n    </tr>\n    <tr>\n      <th>Z</th>\n      <td>21862</td>\n      <td>NaN</td>\n      <td>NaN</td>\n      <td>NaN</td>\n      <td>0.000594639</td>\n      <td>0.0243785</td>\n      <td>0</td>\n      <td>0</td>\n      <td>0</td>\n      <td>0</td>\n      <td>1</td>\n    </tr>\n    <tr>\n      <th>Number_of_prev_cond</th>\n      <td>21862</td>\n      <td>NaN</td>\n      <td>NaN</td>\n      <td>NaN</td>\n      <td>1.75048</td>\n      <td>0.770311</td>\n      <td>1</td>\n      <td>1</td>\n      <td>2</td>\n      <td>2</td>\n      <td>5</td>\n    </tr>\n    <tr>\n      <th>Survived_1_year</th>\n      <td>23097</td>\n      <td>NaN</td>\n      <td>NaN</td>\n      <td>NaN</td>\n      <td>0.632247</td>\n      <td>0.482204</td>\n      <td>0</td>\n      <td>0</td>\n      <td>1</td>\n      <td>1</td>\n      <td>1</td>\n    </tr>\n  </tbody>\n</table>\n</div>"
     },
     "metadata": {},
     "execution_count": 72
    }
   ],
   "source": [
    "pharma_data.describe(include = \"all\").T"
   ]
  },
  {
   "cell_type": "code",
   "execution_count": 73,
   "metadata": {},
   "outputs": [],
   "source": [
    "pharma_data[\"Treated_with_drugs\"] = pharma_data[\"Treated_with_drugs\"].fillna(\"UNKNOWN\")\n",
    "pharma_data[[\"A\", \"B\", \"C\", \"D\", \"E\", \"F\", \"Z\", \"Number_of_prev_cond\"]] = pharma_data[[\"A\", \"B\", \"C\", \"D\", \"E\", \"F\", \"Z\", \"Number_of_prev_cond\"]].fillna(0)"
   ]
  },
  {
   "cell_type": "code",
   "execution_count": 74,
   "metadata": {
    "tags": []
   },
   "outputs": [
    {
     "output_type": "stream",
     "name": "stdout",
     "text": [
      "['DX6' 'DX2' 'DX1' 'UNKNOWN' 'DX3' 'DX5' 'DX4' 'DX2 DX5' 'DX2 DX3'\n 'DX1 DX3' 'DX1 DX2' 'DX3 DX4' 'DX1 DX4' 'DX1 DX5' 'DX2 DX4 DX5'\n 'DX1 DX2 DX3' 'DX3 DX5' 'DX2 DX4' 'DX3 DX4 DX5' 'DX2 DX3 DX5'\n 'DX1 DX2 DX3 DX4' 'DX4 DX5' 'DX2 DX3 DX4' 'DX1 DX4 DX5' 'DX1 DX2 DX4'\n 'DX1 DX3 DX5' 'DX1 DX2 DX5' 'DX1 DX3 DX4' 'DX1 DX3 DX4 DX5'\n 'DX1 DX2 DX4 DX5' 'DX2 DX3 DX4 DX5' 'DX1 DX2 DX3 DX5'\n 'DX1 DX2 DX3 DX4 DX5']\n"
     ]
    }
   ],
   "source": [
    "pharma_data[\"Treated_with_drugs\"] = pharma_data[\"Treated_with_drugs\"].str.strip()\n",
    "print(pharma_data[\"Treated_with_drugs\"].unique())"
   ]
  },
  {
   "cell_type": "code",
   "execution_count": 75,
   "metadata": {},
   "outputs": [],
   "source": [
    "encoder_drugs = LabelEncoder()\n",
    "pharma_data[\"Treated_with_drugs\"] = encoder_drugs.fit_transform(pharma_data[\"Treated_with_drugs\"])\n",
    "\n",
    "encoder_smoker = LabelEncoder()\n",
    "pharma_data[\"Patient_Smoker\"] = encoder_smoker.fit_transform(pharma_data[\"Patient_Smoker\"])\n",
    "\n",
    "encoder_ruralurban = LabelEncoder()\n",
    "pharma_data[\"Patient_Rural_Urban\"] = encoder_ruralurban.fit_transform(pharma_data[\"Patient_Rural_Urban\"])\n",
    "\n",
    "encoder_mental = LabelEncoder()\n",
    "pharma_data[\"Patient_mental_condition\"] = encoder_mental.fit_transform(pharma_data[\"Patient_mental_condition\"])\n"
   ]
  },
  {
   "cell_type": "code",
   "execution_count": 76,
   "metadata": {},
   "outputs": [],
   "source": [
    "X = pharma_data.drop(columns=[\"Survived_1_year\"])\n",
    "y = pharma_data[\"Survived_1_year\"]\n",
    "\n",
    "X_train, X_test, y_train, y_test = train_test_split(X, y, test_size = 0.15, random_state = 1)"
   ]
  },
  {
   "cell_type": "code",
   "execution_count": 77,
   "metadata": {},
   "outputs": [],
   "source": [
    "tree_classifier_model = DecisionTreeClassifier()"
   ]
  },
  {
   "cell_type": "code",
   "execution_count": 78,
   "metadata": {},
   "outputs": [
    {
     "output_type": "execute_result",
     "data": {
      "text/plain": [
       "DecisionTreeClassifier()"
      ]
     },
     "metadata": {},
     "execution_count": 78
    }
   ],
   "source": [
    "tree_classifier_model.fit(X_train, y_train)"
   ]
  },
  {
   "cell_type": "code",
   "execution_count": 81,
   "metadata": {},
   "outputs": [],
   "source": [
    "y_pred_train = tree_classifier_model.predict(X_train)"
   ]
  },
  {
   "cell_type": "code",
   "execution_count": 84,
   "metadata": {},
   "outputs": [
    {
     "output_type": "stream",
     "name": "stdout",
     "text": [
      "              precision    recall  f1-score   support\n\n           0       1.00      1.00      1.00      7211\n           1       1.00      1.00      1.00     12421\n\n    accuracy                           1.00     19632\n   macro avg       1.00      1.00      1.00     19632\nweighted avg       1.00      1.00      1.00     19632\n\n"
     ]
    }
   ],
   "source": [
    "report_train = classification_report(y_train, y_pred_train)\n",
    "print(report_train)"
   ]
  },
  {
   "cell_type": "code",
   "execution_count": 86,
   "metadata": {},
   "outputs": [
    {
     "output_type": "stream",
     "name": "stdout",
     "text": [
      "[[ 7211     0]\n [    0 12421]]\n"
     ]
    }
   ],
   "source": [
    "print(confusion_matrix(y_train, y_pred_train))"
   ]
  },
  {
   "cell_type": "code",
   "execution_count": 87,
   "metadata": {},
   "outputs": [],
   "source": [
    "y_pred_test = tree_classifier_model.predict(X_test)"
   ]
  },
  {
   "cell_type": "code",
   "execution_count": 89,
   "metadata": {},
   "outputs": [
    {
     "output_type": "stream",
     "name": "stdout",
     "text": [
      "              precision    recall  f1-score   support\n\n           0       0.69      0.72      0.70      1283\n           1       0.83      0.81      0.82      2182\n\n    accuracy                           0.77      3465\n   macro avg       0.76      0.76      0.76      3465\nweighted avg       0.78      0.77      0.77      3465\n\n"
     ]
    }
   ],
   "source": [
    "report_test = classification_report(y_test, y_pred_test)\n",
    "print(report_test)"
   ]
  },
  {
   "cell_type": "code",
   "execution_count": 90,
   "metadata": {},
   "outputs": [
    {
     "output_type": "stream",
     "name": "stdout",
     "text": [
      "[[ 918  365]\n [ 422 1760]]\n"
     ]
    }
   ],
   "source": [
    "print(confusion_matrix(y_test, y_pred_test))"
   ]
  },
  {
   "source": [
    "(to be continued ...)"
   ],
   "cell_type": "markdown",
   "metadata": {}
  },
  {
   "cell_type": "code",
   "execution_count": null,
   "metadata": {},
   "outputs": [],
   "source": []
  }
 ]
}